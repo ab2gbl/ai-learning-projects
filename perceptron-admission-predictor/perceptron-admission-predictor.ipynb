{
  "nbformat": 4,
  "nbformat_minor": 0,
  "metadata": {
    "colab": {
      "provenance": [],
      "authorship_tag": "ABX9TyOJKCRHi+8ylVwAnX4Dkiz8",
      "include_colab_link": true
    },
    "kernelspec": {
      "name": "python3",
      "display_name": "Python 3"
    },
    "language_info": {
      "name": "python"
    }
  },
  "cells": [
    {
      "cell_type": "markdown",
      "metadata": {
        "id": "view-in-github",
        "colab_type": "text"
      },
      "source": [
        "<a href=\"https://colab.research.google.com/github/ab2gbl/Master2/blob/main/MLCI/TP/MLCI_TP2.ipynb\" target=\"_parent\"><img src=\"https://colab.research.google.com/assets/colab-badge.svg\" alt=\"Open In Colab\"/></a>"
      ]
    },
    {
      "cell_type": "code",
      "execution_count": 1,
      "metadata": {
        "colab": {
          "base_uri": "https://localhost:8080/"
        },
        "id": "o0gqOSiIZnkr",
        "outputId": "60eb230a-3801-4cdf-9ca7-d5936394f96c"
      },
      "outputs": [
        {
          "output_type": "stream",
          "name": "stdout",
          "text": [
            "[-1.59495186e-05 -1.34971662e-01  0.00000000e+00]\n"
          ]
        }
      ],
      "source": [
        "import numpy as np\n",
        "\n",
        "data = np.array([\n",
        "    [1, 0],\n",
        "    [1, 1],\n",
        "    [0, 1],\n",
        "    [0, 0]\n",
        "])\n",
        "labels = np.array([0, 1, 0, 0])\n",
        "\n",
        "\n",
        "weights = np.append(np.random.uniform(-1, 1, 2), 0)\n",
        "\n",
        "\n",
        "learning_rate = 0.1\n",
        "epochs = 300000\n",
        "\n",
        "print(weights)\n"
      ]
    },
    {
      "cell_type": "code",
      "source": [
        "def weighted_sum(inputs):\n",
        "  inputs_with_bias = np.append(inputs, 1)\n",
        "  return np.dot(inputs_with_bias, weights)    # sum input*weight\n",
        "\n",
        "weighted_sum([1,0])\n"
      ],
      "metadata": {
        "colab": {
          "base_uri": "https://localhost:8080/"
        },
        "id": "p1ecTwwraPdD",
        "outputId": "23c6d762-0090-454c-e61e-f559d2fb6795"
      },
      "execution_count": 2,
      "outputs": [
        {
          "output_type": "execute_result",
          "data": {
            "text/plain": [
              "np.float64(-1.5949518633151527e-05)"
            ]
          },
          "metadata": {},
          "execution_count": 2
        }
      ]
    },
    {
      "cell_type": "code",
      "source": [
        "def sigmoid(x):\n",
        "    return 1 / (1 + np.exp(-x))"
      ],
      "metadata": {
        "id": "cAhK_5lHjDZF"
      },
      "execution_count": 3,
      "outputs": []
    },
    {
      "cell_type": "code",
      "source": [
        "\n",
        "\n",
        "def calculate_error(prediction, target):\n",
        "    return prediction - target\n",
        "\n",
        "def MSE(predictions, targets):\n",
        "    errors = calculate_error(predictions, targets)\n",
        "    squared_errors = errors ** 2\n",
        "    mse = np.mean(squared_errors)  # average\n",
        "    return mse\n",
        "\n",
        "\n",
        "\n"
      ],
      "metadata": {
        "id": "I0hHw7rTjE9-"
      },
      "execution_count": 4,
      "outputs": []
    },
    {
      "cell_type": "code",
      "source": [
        "\n",
        "def calculate_gradient(error, prediction):\n",
        "    gradient = error * prediction * (1 - prediction)\n",
        "    return gradient\n"
      ],
      "metadata": {
        "id": "FB_LJYWGkpU5"
      },
      "execution_count": 5,
      "outputs": []
    },
    {
      "cell_type": "code",
      "source": [
        "\n",
        "def adjust_weights(inputs, gradient):\n",
        "    global weights\n",
        "    inputs_with_bias = np.append(inputs, 1)\n",
        "    #print(learning_rate,gradient,inputs_with_bias)\n",
        "    weights += learning_rate * gradient * inputs_with_bias\n",
        "    #print(weights)\n"
      ],
      "metadata": {
        "id": "xe92O5ygkvmA"
      },
      "execution_count": 6,
      "outputs": []
    },
    {
      "cell_type": "code",
      "source": [
        "mse_values = []\n",
        "\n",
        "for epoch in range(epochs):\n",
        "    predictions = []\n",
        "\n",
        "    for i in range(len(data)):\n",
        "        inputs = data[i]\n",
        "        target = labels[i]\n",
        "\n",
        "        # prediction\n",
        "        w_sum = weighted_sum(inputs)\n",
        "        prediction = sigmoid(w_sum)\n",
        "        predictions.append(prediction)\n",
        "\n",
        "        error =calculate_error (target , prediction)\n",
        "\n",
        "        # Adjust weights (gradient descent)\n",
        "        gradiant=calculate_gradient(error,prediction)\n",
        "        adjust_weights(inputs,gradiant)\n",
        "\n",
        "    mse = MSE(predictions, labels)\n",
        "    mse_values.append(mse)\n",
        "\n",
        "    if epoch % 50000 == 0:\n",
        "        print(f\"Epoch {epoch}, MSE: {mse}\")\n"
      ],
      "metadata": {
        "colab": {
          "base_uri": "https://localhost:8080/"
        },
        "id": "dJIC8DlJdS_9",
        "outputId": "197e8eed-c4bc-4e17-b3c8-38b9ce307294"
      },
      "execution_count": 7,
      "outputs": [
        {
          "output_type": "stream",
          "name": "stdout",
          "text": [
            "Epoch 0, MSE: 0.2523980054815049\n",
            "Epoch 50000, MSE: 0.0004697430601564784\n",
            "Epoch 100000, MSE: 0.00022803721474895007\n",
            "Epoch 150000, MSE: 0.00015004553398559328\n",
            "Epoch 200000, MSE: 0.00011165946854316913\n",
            "Epoch 250000, MSE: 8.885388110760034e-05\n"
          ]
        }
      ]
    },
    {
      "cell_type": "code",
      "source": [
        "import matplotlib.pyplot as plt\n",
        "\n",
        "plt.plot(mse_values)\n",
        "plt.xlabel('Epochs')\n",
        "plt.ylabel('Mean Squared Error (MSE)')\n",
        "plt.title('MSE over Epochs')\n",
        "plt.show()\n"
      ],
      "metadata": {
        "id": "AefRJjN9beza",
        "colab": {
          "base_uri": "https://localhost:8080/",
          "height": 472
        },
        "outputId": "ae13e586-3e5c-4ab1-9989-3aae73df0ea5"
      },
      "execution_count": 8,
      "outputs": [
        {
          "output_type": "display_data",
          "data": {
            "text/plain": [
              "<Figure size 640x480 with 1 Axes>"
            ],
            "image/png": "[encoded data removed]"
          },
          "metadata": {}
        }
      ]
    },
    {
      "cell_type": "markdown",
      "source": [
        "# test"
      ],
      "metadata": {
        "id": "MN27VaZrvIkX"
      }
    },
    {
      "cell_type": "code",
      "source": [
        "# Test cases\n",
        "test_data = np.array([\n",
        "    [0, 1],\n",
        "    [1, 1]\n",
        "])\n",
        "\n",
        "for i, test_case in enumerate(test_data):\n",
        "\n",
        "    w_sum = weighted_sum(test_case)\n",
        "    prediction = sigmoid(w_sum)\n",
        "    print(f\"Test Case {i+1} (X1={test_case[0]}, X2={test_case[1]}): Prediction = {round(prediction)} ({prediction:.4f})\")\n"
      ],
      "metadata": {
        "colab": {
          "base_uri": "https://localhost:8080/"
        },
        "id": "dXY8DlhXdqkY",
        "outputId": "57db8555-d8ed-4287-8cb9-c3fec7d75c42"
      },
      "execution_count": 9,
      "outputs": [
        {
          "output_type": "stream",
          "name": "stdout",
          "text": [
            "Test Case 1 (X1=0, X2=1): Prediction = 0 (0.0093)\n",
            "Test Case 2 (X1=1, X2=1): Prediction = 1 (0.9890)\n"
          ]
        }
      ]
    }
  ]
}